{
 "cells": [
  {
   "cell_type": "markdown",
   "metadata": {},
   "source": [
    "## hello world"
   ]
  },
  {
   "cell_type": "markdown",
   "metadata": {},
   "source": [
    "we are doing well well"
   ]
  },
  {
   "cell_type": "markdown",
   "metadata": {},
   "source": [
    " i was very far behide but now i am at par with the others"
   ]
  },
  {
   "cell_type": "markdown",
   "metadata": {},
   "source": [
    "i worked on installation of anaconda,git add ,git commit and git push"
   ]
  },
  {
   "cell_type": "markdown",
   "metadata": {},
   "source": [
    "okay do it"
   ]
  },
  {
   "cell_type": "markdown",
   "metadata": {},
   "source": [
    "i will do this,it requires more practice"
   ]
  },
  {
   "cell_type": "markdown",
   "metadata": {},
   "source": [
    "## good morning\n"
   ]
  },
  {
   "cell_type": "markdown",
   "metadata": {},
   "source": [
    "* git add\n",
    "* git commit\n",
    "* git push"
   ]
  },
  {
   "cell_type": "markdown",
   "metadata": {},
   "source": [
    "#### git add\n",
    "1.0 new command adding to local drive\n",
    "1.1 page up until you see git add on local drive\n",
    "\n",
    "#### git commit\n",
    "1.0 where can someone track the changes\n",
    "1.1 Ensure it can clearly reat updating notebook on local jupyter notebook\n",
    "\n",
    "### git push\n",
    "1.0 where can it be accessed on local drive"
   ]
  },
  {
   "cell_type": "markdown",
   "metadata": {},
   "source": [
    "#### GIT ADD\n",
    " 1.O New command to local dive\n",
    " \n",
    " 1.1 page up"
   ]
  },
  {
   "cell_type": "markdown",
   "metadata": {},
   "source": [
    "### JUDITH"
   ]
  },
  {
   "cell_type": "markdown",
   "metadata": {},
   "source": [
    "### MIBANG"
   ]
  },
  {
   "cell_type": "code",
   "execution_count": null,
   "metadata": {},
   "outputs": [],
   "source": []
  }
 ],
 "metadata": {
  "kernelspec": {
   "display_name": "Python 3",
   "language": "python",
   "name": "python3"
  },
  "language_info": {
   "codemirror_mode": {
    "name": "ipython",
    "version": 3
   },
   "file_extension": ".py",
   "mimetype": "text/x-python",
   "name": "python",
   "nbconvert_exporter": "python",
   "pygments_lexer": "ipython3",
   "version": "3.8.5"
  }
 },
 "nbformat": 4,
 "nbformat_minor": 4
}
